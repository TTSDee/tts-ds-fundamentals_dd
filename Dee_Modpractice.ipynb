{
 "cells": [
  {
   "cell_type": "code",
   "execution_count": 1,
   "id": "e8e332b0",
   "metadata": {},
   "outputs": [
    {
     "name": "stdout",
     "output_type": "stream",
     "text": [
      "Deneus Diene\n"
     ]
    }
   ],
   "source": [
    "#helps to organize data and access each value in a string#\n",
    "def my_function(lname):\n",
    "  print(lname + \" Diene\")\n",
    "\n",
    "my_function(\"Deneus\")"
   ]
  },
  {
   "cell_type": "code",
   "execution_count": 2,
   "id": "7816a89f",
   "metadata": {
    "scrolled": true
   },
   "outputs": [
    {
     "name": "stdout",
     "output_type": "stream",
     "text": [
      "Input an integer : 7\n",
      "861\n"
     ]
    }
   ],
   "source": [
    "#creates input that is just a number#\n",
    "a = int(input(\"Input an integer : \"))\n",
    "n1 = int( \"%s\" % a )\n",
    "n2 = int( \"%s%s\" % (a,a) )\n",
    "n3 = int( \"%s%s%s\" % (a,a,a) )\n",
    "print (n1+n2+n3)"
   ]
  },
  {
   "cell_type": "code",
   "execution_count": 6,
   "id": "a8889680",
   "metadata": {
    "scrolled": true
   },
   "outputs": [
    {
     "name": "stdout",
     "output_type": "stream",
     "text": [
      "What country are you from?: Bengali\n",
      "I have heard that Bengali is a beautiful country.\n"
     ]
    }
   ],
   "source": [
    "#helps to evaluate the expressions from a user input#\n",
    "name=input(\"What country are you from?: \")\n",
    "print(\"I have heard that Bengali is a beautiful country.\")"
   ]
  },
  {
   "cell_type": "code",
   "execution_count": 15,
   "id": "9af4641f",
   "metadata": {},
   "outputs": [],
   "source": [
    "#a function that can help do comparisons in data#\n",
    "x = 10\n",
    "y = 50\n",
    "if (x ** 2 > 100 and y < 100):\n",
    "    print(x,y)"
   ]
  },
  {
   "cell_type": "code",
   "execution_count": 1,
   "id": "e24ea9e8",
   "metadata": {},
   "outputs": [
    {
     "name": "stdout",
     "output_type": "stream",
     "text": [
      "50\n"
     ]
    }
   ],
   "source": [
    "x = 10\n",
    "y = 50\n",
    "if y < 100 :\n",
    "    print (y)"
   ]
  },
  {
   "cell_type": "code",
   "execution_count": 7,
   "id": "9fbc6c14",
   "metadata": {},
   "outputs": [
    {
     "name": "stdout",
     "output_type": "stream",
     "text": [
      "[10, 20, 30, 40]\n",
      "[10, 20, 30, 40]\n"
     ]
    }
   ],
   "source": [
    "#+ helps to add two values together#\n",
    "a = [10, 20]\n",
    "b = a\n",
    "b += [30, 40]\n",
    "print(a)\n",
    "print(b)"
   ]
  },
  {
   "cell_type": "code",
   "execution_count": 8,
   "id": "dbed077a",
   "metadata": {},
   "outputs": [
    {
     "name": "stdout",
     "output_type": "stream",
     "text": [
      "2\n"
     ]
    }
   ],
   "source": [
    "#standard division operation being used#\n",
    "\n",
    "print(2%6)"
   ]
  },
  {
   "cell_type": "code",
   "execution_count": 9,
   "id": "5cc23835",
   "metadata": {},
   "outputs": [
    {
     "name": "stdout",
     "output_type": "stream",
     "text": [
      "216\n"
     ]
    }
   ],
   "source": [
    "#standard multiplication operation being used#\n",
    "\n",
    "print(2 * 3 ** 3 * 4)"
   ]
  },
  {
   "cell_type": "code",
   "execution_count": null,
   "id": "d3fee00b",
   "metadata": {},
   "outputs": [],
   "source": [
    "#A text editor is a program that pairs with a software to write code and saves files#"
   ]
  },
  {
   "cell_type": "code",
   "execution_count": null,
   "id": "e0797583",
   "metadata": {},
   "outputs": [],
   "source": [
    "#Python is a programming language used to do data analysis#"
   ]
  },
  {
   "cell_type": "code",
   "execution_count": null,
   "id": "3d7d4345",
   "metadata": {},
   "outputs": [],
   "source": [
    "#Jupyter Notebook is an app that allows editing and running folder content via web browser. \n",
    "It is a web-based computational notebook environment for Python. Some alternatives could be Pycharm, VS Code, and KDevelop#"
   ]
  }
 ],
 "metadata": {
  "kernelspec": {
   "display_name": "Python 3 (ipykernel)",
   "language": "python",
   "name": "python3"
  },
  "language_info": {
   "codemirror_mode": {
    "name": "ipython",
    "version": 3
   },
   "file_extension": ".py",
   "mimetype": "text/x-python",
   "name": "python",
   "nbconvert_exporter": "python",
   "pygments_lexer": "ipython3",
   "version": "3.9.12"
  }
 },
 "nbformat": 4,
 "nbformat_minor": 5
}
